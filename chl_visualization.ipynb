{
 "cells": [
  {
   "cell_type": "markdown",
   "metadata": {},
   "source": [
    "### trend visualization"
   ]
  },
  {
   "cell_type": "code",
   "execution_count": 30,
   "metadata": {
    "vscode": {
     "languageId": "r"
    }
   },
   "outputs": [
    {
     "name": "stdout",
     "output_type": "stream",
     "text": [
      "[1] 268\n",
      "[1] 423\n",
      "[1] 3465\n"
     ]
    }
   ],
   "source": [
    "# load data\n",
    "library(ncdf4)\n",
    "library(ggplot2)\n",
    "library(lubridate)\n",
    "\n",
    "database <- '/home/jianj0c/dataset/redsea/'\n",
    "data_folder  <- 'Chlorophyll/Daily/'\n",
    "dir_path <- paste(database,data_folder,\"Daily_Aqua_MODIS_chloA.2013_2022.nc\",sep=\"\")\n",
    "nc_obj <- nc_open(dir_path)\n",
    "\n",
    "T_array <- ncvar_get(nc_obj,\"chlorophyllA\")\n",
    "dim(T_array)"
   ]
  },
  {
   "cell_type": "code",
   "execution_count": 37,
   "metadata": {
    "vscode": {
     "languageId": "r"
    }
   },
   "outputs": [],
   "source": [
    "# filter the outlier value based on xx method\n",
    "pipeline_filter_for_outlier <- function(array) { # create a function with the name my_function\n",
    "  print(\"Hello World!\")\n",
    "  return array\n",
    "}\n",
    "\n",
    "\n",
    "# take one 3d arrayday reduce the 3d data to 2d\n",
    "reducer_trend<- function(array) { \n",
    "  print(\"Hello World!\")\n",
    "  return array\n",
    "}\n",
    "\n",
    "\n",
    "#\n",
    "reduce_seasonal<- function(array) { \n",
    "  print(\"Hello World!\")\n",
    "  return array\n",
    "}\n",
    "\n",
    "\n",
    "# take one 3d arrayday reduce the 3d data to 2d\n",
    "reducer2_correlation<-function(array1, array2){\n",
    "\n",
    "  return array1+array2\n",
    "}\n",
    "\n",
    "\n",
    "\n",
    "##geom_contour\n",
    "visualize_frame_level<-function(array1, array2){\n",
    "\n",
    "  return array1+array2\n",
    "}\n",
    "\n",
    "#\n",
    "visualize_frame_raw<- function(value_2d,lantitude=NULL,latidude=NULL,timestamp=\"\",title=\"\") { # create a function with the name my_function\n",
    "  T_slice <- T_array[,,i]\n",
    "  title<-xlab=date[i]\n",
    "  image(longitude,rev(latitude),value_2d[,dim(value_2d)[2]:1],title,col = rev(brewer.pal(10,\"RdBu\")))\n",
    "  \n",
    "}\n"
   ]
  },
  {
   "cell_type": "code",
   "execution_count": 3,
   "metadata": {
    "vscode": {
     "languageId": "r"
    }
   },
   "outputs": [
    {
     "data": {
      "text/html": [
       "'Chlorophyll/Daily/Daily_Aqua_MODIS_chloA.2013_2022.nc'"
      ],
      "text/latex": [
       "'Chlorophyll/Daily/Daily\\_Aqua\\_MODIS\\_chloA.2013\\_2022.nc'"
      ],
      "text/markdown": [
       "'Chlorophyll/Daily/Daily_Aqua_MODIS_chloA.2013_2022.nc'"
      ],
      "text/plain": [
       "[1] \"Chlorophyll/Daily/Daily_Aqua_MODIS_chloA.2013_2022.nc\""
      ]
     },
     "metadata": {},
     "output_type": "display_data"
    }
   ],
   "source": [
    "dir_path"
   ]
  }
 ],
 "metadata": {
  "kernelspec": {
   "display_name": "R",
   "language": "R",
   "name": "ir"
  },
  "language_info": {
   "codemirror_mode": "r",
   "file_extension": ".r",
   "mimetype": "text/x-r-source",
   "name": "R",
   "pygments_lexer": "r",
   "version": "4.2.1"
  },
  "orig_nbformat": 4
 },
 "nbformat": 4,
 "nbformat_minor": 2
}
