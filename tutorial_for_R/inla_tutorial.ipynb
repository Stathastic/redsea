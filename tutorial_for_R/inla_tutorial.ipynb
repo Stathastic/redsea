{
 "cells": [
  {
   "cell_type": "code",
   "execution_count": null,
   "metadata": {},
   "outputs": [],
   "source": [
    "SPDEtoy.sp <- SPDEtoy\n",
    "coordinates(SPDEtoy.sp) <- ~ s1 + s2\n",
    "bubble(SPDEtoy.sp, \"y\", key.entries = c(5, 7.5, 10, 12.5, 15),\n",
    "maxsize = 2, xlab = \"s1\", ylab = \"s2\")"
   ]
  },
  {
   "cell_type": "code",
   "execution_count": null,
   "metadata": {},
   "outputs": [],
   "source": [
    "m0 <- inla(y ~ s1 + s2, data = SPDEtoy)\n",
    "f.rw1 <- y ~s1+ f(s1, model = \"rw1\", scale.model = TRUE) +\n",
    "f(s2, model = \"rw1\", scale.model = TRUE)\n",
    "f.rw2 <- y ~ f(s1, model = \"rw2\") +\n",
    "f(s2, model = \"rw2\")\n",
    "m2 <- inla(f.rw1, data = SPDEtoy)"
   ]
  },
  {
   "cell_type": "code",
   "execution_count": null,
   "metadata": {},
   "outputs": [],
   "source": [
    "plot(m0$marginals.fixed[[1]], type = \"l\",\n",
    "xlab = expression(alpha), ylab = \"density\")"
   ]
  },
  {
   "cell_type": "code",
   "execution_count": null,
   "metadata": {},
   "outputs": [],
   "source": [
    "formula<-y~t+f(month,model=\"rw2\")\n",
    "m1<-inla(formula,data=data)"
   ]
  }
 ],
 "metadata": {
  "kernelspec": {
   "display_name": "Python 3.10.6 64-bit",
   "language": "python",
   "name": "python3"
  },
  "language_info": {
   "name": "python",
   "version": "3.10.6"
  },
  "orig_nbformat": 4,
  "vscode": {
   "interpreter": {
    "hash": "916dbcbb3f70747c44a77c7bcd40155683ae19c65e1c03b4aa3499c5328201f1"
   }
  }
 },
 "nbformat": 4,
 "nbformat_minor": 2
}
