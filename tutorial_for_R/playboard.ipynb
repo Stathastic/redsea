{
 "cells": [
  {
   "cell_type": "code",
   "execution_count": null,
   "metadata": {},
   "outputs": [],
   "source": [
    "set.seed(4321)\n",
    "x <- runif(200, min = 0, max = 4*pi)\n",
    "x <- sort(x)\n",
    "y <- sin(x) + rnorm(200, sd = 0.3)\n",
    "plot(x, y, pch = 20)"
   ]
  }
 ],
 "metadata": {
  "kernelspec": {
   "display_name": "Julia 1.8.2",
   "language": "julia",
   "name": "julia-1.8"
  },
  "language_info": {
   "file_extension": ".jl",
   "mimetype": "application/julia",
   "name": "julia",
   "version": "1.8.2"
  },
  "orig_nbformat": 4
 },
 "nbformat": 4,
 "nbformat_minor": 2
}
