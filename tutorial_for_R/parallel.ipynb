{
 "cells": [
  {
   "cell_type": "code",
   "execution_count": null,
   "metadata": {},
   "outputs": [],
   "source": [
    "\n",
    "library(parallel) # 载入parallel包\n",
    "primary <- 'stochproc-3'\n",
    "\n",
    "machineAddresses <- list(\n",
    "list(host=primary,user='jianj0c',\n",
    "   ncore=5),\n",
    "list(host='stochproc-4',user='jianj0c',\n",
    "   ncore=5),\n",
    "list(host='stochproc-5',user='jianj0c',\n",
    "   ncore=4)\n",
    ")\n",
    "\n",
    "no_cores <- 5\n",
    "cl <- makeCluster(no_cores)\n",
    "\n",
    "\n",
    "\n",
    "#\n",
    "              \n",
    "\n",
    "anonym_func<-function(matrix,date,shape,agg_on=\"Season\"){\n",
    "    xx<-matrix(unlist(matrix))\n",
    "    dim(xx)<-shape    \n",
    "    print(dim(xx))\n",
    "    return(reducer_trend_seasonal(xx,date,,25))\n",
    "}\n",
    "\n",
    "\n",
    "##[WARN]: this is too slow. on the ChlA. need do 20k regression on INLA. approximately will take 2 hours!\n",
    "## linear regression for 3D and reduce to 3d seaonal matrix [la*lo*s]\n",
    "\n",
    "datas<-lapply(seq_len(dim(chl_T_array)[1]),function(i) chl_T_array[i,,])\n",
    "\n",
    "#"
   ]
  },
  {
   "cell_type": "code",
   "execution_count": null,
   "metadata": {},
   "outputs": [],
   "source": [
    "stopCluster(cl)"
   ]
  },
  {
   "cell_type": "code",
   "execution_count": null,
   "metadata": {},
   "outputs": [],
   "source": [
    "\n",
    "datas<-lapply(seq_len(dim(chl_T_array)[1]),function(i) chl_T_array[i,,])"
   ]
  },
  {
   "cell_type": "code",
   "execution_count": null,
   "metadata": {},
   "outputs": [],
   "source": [
    "library(parallelly) # 载入parallel包library(parallel) # 载入parallel包\n",
    "cl <- makeClusterPSOCK(\n",
    "    workers=rep(c(\"10.68.171.157\",\"10.68.170.226\",\"10.68.170.220\"),3), user = \"jianj0c\",\n",
    "  ## Manual configuration of reverse SSH tunnelling\n",
    "  revtunnel = TRUE\n",
    ")\n",
    "clusterEvalQ(cl,source(\"/home/jianj0c/project/redsea/helper.R\"))"
   ]
  },
  {
   "cell_type": "code",
   "execution_count": null,
   "metadata": {},
   "outputs": [],
   "source": [
    "library(parallelly) # 载入parallel包library(parallel) # 载入parallel包\n",
    "cl <- makeClusterPSOCK(\n",
    "  \"10.68.170.220\", user = \"jianj0c\",\n",
    "  ## Manual configuration of reverse SSH tunnelling\n",
    "  revtunnel = TRUE\n",
    ")"
   ]
  },
  {
   "cell_type": "code",
   "execution_count": null,
   "metadata": {},
   "outputs": [],
   "source": [
    "anonym_func<-function(matrix,date,shape,agg_on=\"Season\"){\n",
    "    xx<-matrix(unlist(matrix))\n",
    "    dim(xx)<-shape    \n",
    "    print(dim(xx))\n",
    "    return(reducer_trend_seasonal(xx,date,,25))\n",
    "}\n",
    "\n",
    "\n",
    "##[WARN]: this is too slow. on the ChlA. need do 20k regression on INLA. approximately will take 2 hours!\n",
    "## linear regression for 3D and reduce to 3d seaonal matrix [la*lo*s]\n",
    "\n",
    "#datas<-lapply(seq_len(dim(chl_T_array)[1]),function(i) chl_T_array[i,,])\n",
    "#result<-parallel::parLapply(cl,datas[1:2],anonym_func,date=date,shape=c(1,423,890))"
   ]
  },
  {
   "cell_type": "code",
   "execution_count": null,
   "metadata": {},
   "outputs": [],
   "source": [
    "\n",
    "library(parallel) # 载入parallel包\n",
    "primary <- '10.68.171.157'\n",
    "\n",
    "machineAddresses <- list(\n",
    "list(host=primary,user='jianj0c',\n",
    "   ncore=2),\n",
    "list(host='10.68.170.220',user='jianj0c',\n",
    "   ncore=2),\n",
    "list(host='10.68.170.226',user='jianj0c',\n",
    "   ncore=2)\n",
    ")\n",
    "spec <- lapply(machineAddresses,\n",
    "               function(machine) {\n",
    "                 rep(list(list(host=machine$host,\n",
    "                               user=machine$user)),\n",
    "                     machine$ncore)\n",
    "               })\n",
    "spec <- unlist(spec,recursive=FALSE)\n",
    "\n",
    "\n",
    "\n",
    "\n"
   ]
  },
  {
   "cell_type": "code",
   "execution_count": null,
   "metadata": {},
   "outputs": [],
   "source": [
    "library(snow);\n",
    "workerList <- list(\n",
    "list(host = \"10.68.171.157\", port = 187877, outfile = \"~/log11.log\", rshcmd = \"ssh\",timeout=5),\n",
    "list(host = \"10.68.170.220\", port = 187877, outfile = \"~/log22.log\", rshcmd = \"ssh\",timeout=5),\n",
    "list(host = \"10.68.170.226\", port = 187877, outfile = \"~/log33.log\", rshcmd = \"ssh\",timeout=4)\n",
    ");\n",
    "\n",
    "cl <- snow::makeCluster(workerList, type=\"SOCK\", master=\"10.68.171.157\")\n",
    "\n",
    "\n"
   ]
  },
  {
   "cell_type": "code",
   "execution_count": null,
   "metadata": {},
   "outputs": [],
   "source": [
    "parallelCluster <- makePSOCKcluster(spec,master=system(\"hostname -i\", intern=TRUE))\n",
    "machineAddresses <-list(list(host='10.68.170.220',user='jianj0c'))\n",
    "cl <- makePSOCKcluster(spec)\n"
   ]
  }
 ],
 "metadata": {
  "kernelspec": {
   "display_name": "Python 3.10.6 64-bit",
   "language": "python",
   "name": "python3"
  },
  "language_info": {
   "name": "python",
   "version": "3.10.6"
  },
  "orig_nbformat": 4,
  "vscode": {
   "interpreter": {
    "hash": "916dbcbb3f70747c44a77c7bcd40155683ae19c65e1c03b4aa3499c5328201f1"
   }
  }
 },
 "nbformat": 4,
 "nbformat_minor": 2
}
